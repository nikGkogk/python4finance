{
 "cells": [
  {
   "cell_type": "code",
   "id": "initial_id",
   "metadata": {
    "collapsed": true,
    "ExecuteTime": {
     "end_time": "2025-01-25T08:35:41.302287Z",
     "start_time": "2025-01-25T08:35:41.281340Z"
    }
   },
   "source": [
    "import pprint\n",
    "\n",
    "import pandas as pd\n",
    "import numpy as np\n",
    "\n",
    "path = './'\n",
    "\n",
    "rows = 500\n",
    "rdmData = np.random.standard_normal((rows, 5)).round(4)  # random numbers ndarray\n",
    "idxTime = pd.date_range(start='2019/1/1', periods=rows, freq='h') # DatetimeIndex to use with above array\n",
    "\n",
    "csv_file = open(path + 'data.csv', 'w')  # Open file for writing\n",
    "\n",
    "headers = 'date,col1,col2,col3,col4,col5\\n'  # Header column labels\n",
    "csv_file.write(headers)\n",
    "\n",
    "for t_, (col1, col2, col3, col4, col5) in zip(idxTime, rdmData):  # Combine the data row-wise\n",
    "    row  = '{},{},{},{},{},{}\\n'.format(t_, col1, col2, col3, col4, col5)  # format data into str\n",
    "    csv_file.write(row)  # write line\n",
    "\n",
    "csv_file.close()"
   ],
   "outputs": [],
   "execution_count": 24
  },
  {
   "metadata": {
    "ExecuteTime": {
     "end_time": "2025-01-25T08:31:52.346643Z",
     "start_time": "2025-01-25T08:31:52.340426Z"
    }
   },
   "cell_type": "code",
   "source": [
    "csv_file = open(path + 'data.csv', 'r')\n",
    "for i in range(5):\n",
    "    print(csv_file.readline(), end='')\n",
    "csv_file.close()"
   ],
   "id": "37f1ad0e3e74d27f",
   "outputs": [
    {
     "name": "stdout",
     "output_type": "stream",
     "text": [
      "date,col1,col2,col3,col4,col5\n",
      "2019-01-01 00:00:00,1.1444,-0.7935,-1.8561,-1.4757,1.08\n",
      "2019-01-01 01:00:00,2.1194,1.672,-1.3502,1.2424,1.4566\n",
      "2019-01-01 02:00:00,-1.0759,1.0388,-0.668,1.2071,0.0032\n",
      "2019-01-01 03:00:00,-0.0117,-2.0571,-1.6708,1.7612,0.4446\n"
     ]
    }
   ],
   "execution_count": 16
  },
  {
   "metadata": {
    "ExecuteTime": {
     "end_time": "2025-01-25T08:36:31.059660Z",
     "start_time": "2025-01-25T08:36:31.053031Z"
    }
   },
   "cell_type": "code",
   "source": [
    "csv_file = open(path + 'data.csv', 'r')\n",
    "content = csv_file.readlines()\n",
    "pprint.pp(content[:5])\n",
    "csv_file.close()"
   ],
   "id": "9aaeb51dbfc9e1b9",
   "outputs": [
    {
     "name": "stdout",
     "output_type": "stream",
     "text": [
      "['date,col1,col2,col3,col4,col5\\n',\n",
      " '2019-01-01 00:00:00,0.7252,-0.6061,-1.7802,-0.2618,-0.7706\\n',\n",
      " '2019-01-01 01:00:00,-0.6373,0.223,-0.4836,0.5701,1.6152\\n',\n",
      " '2019-01-01 02:00:00,0.6173,0.1471,-0.8366,1.0425,-0.877\\n',\n",
      " '2019-01-01 03:00:00,1.0727,2.0676,-0.5799,0.8255,-0.8865\\n']\n"
     ]
    }
   ],
   "execution_count": 27
  },
  {
   "metadata": {
    "ExecuteTime": {
     "end_time": "2025-01-25T08:40:56.766518Z",
     "start_time": "2025-01-25T08:40:56.757062Z"
    }
   },
   "cell_type": "code",
   "source": [
    "import csv\n",
    "\n",
    "with open(path + 'data.csv', 'r') as f:\n",
    "    csv_reader = csv.reader(f)  # csv.reader() returns every single line as a list object\n",
    "    lines = [line for line in csv_reader]\n",
    "pprint.pp(lines[:5])"
   ],
   "id": "ee32b487beb95182",
   "outputs": [
    {
     "name": "stdout",
     "output_type": "stream",
     "text": [
      "[['date', 'col1', 'col2', 'col3', 'col4', 'col5'],\n",
      " ['2019-01-01 00:00:00', '0.7252', '-0.6061', '-1.7802', '-0.2618', '-0.7706'],\n",
      " ['2019-01-01 01:00:00', '-0.6373', '0.223', '-0.4836', '0.5701', '1.6152'],\n",
      " ['2019-01-01 02:00:00', '0.6173', '0.1471', '-0.8366', '1.0425', '-0.877'],\n",
      " ['2019-01-01 03:00:00', '1.0727', '2.0676', '-0.5799', '0.8255', '-0.8865']]\n"
     ]
    }
   ],
   "execution_count": 32
  },
  {
   "metadata": {
    "ExecuteTime": {
     "end_time": "2025-01-25T08:40:51.712612Z",
     "start_time": "2025-01-25T08:40:51.704645Z"
    }
   },
   "cell_type": "code",
   "source": [
    "with open(path + 'data.csv', 'r') as f:\n",
    "    csv_reader = csv.DictReader(f)  # csv.DictReader() returns every single line as an OrderedDict, which is a special case of a dict object.\n",
    "    lines = [line for line in csv_reader]\n",
    "pprint.pp(lines[:5])"
   ],
   "id": "bc88c757823d416f",
   "outputs": [
    {
     "name": "stdout",
     "output_type": "stream",
     "text": [
      "[{'date': '2019-01-01 00:00:00',\n",
      "  'col1': '0.7252',\n",
      "  'col2': '-0.6061',\n",
      "  'col3': '-1.7802',\n",
      "  'col4': '-0.2618',\n",
      "  'col5': '-0.7706'},\n",
      " {'date': '2019-01-01 01:00:00',\n",
      "  'col1': '-0.6373',\n",
      "  'col2': '0.223',\n",
      "  'col3': '-0.4836',\n",
      "  'col4': '0.5701',\n",
      "  'col5': '1.6152'},\n",
      " {'date': '2019-01-01 02:00:00',\n",
      "  'col1': '0.6173',\n",
      "  'col2': '0.1471',\n",
      "  'col3': '-0.8366',\n",
      "  'col4': '1.0425',\n",
      "  'col5': '-0.877'},\n",
      " {'date': '2019-01-01 03:00:00',\n",
      "  'col1': '1.0727',\n",
      "  'col2': '2.0676',\n",
      "  'col3': '-0.5799',\n",
      "  'col4': '0.8255',\n",
      "  'col5': '-0.8865'},\n",
      " {'date': '2019-01-01 04:00:00',\n",
      "  'col1': '1.1417',\n",
      "  'col2': '0.5561',\n",
      "  'col3': '0.6027',\n",
      "  'col4': '-0.1282',\n",
      "  'col5': '-0.6838'}]\n"
     ]
    }
   ],
   "execution_count": 31
  }
 ],
 "metadata": {
  "kernelspec": {
   "display_name": "Python 3",
   "language": "python",
   "name": "python3"
  },
  "language_info": {
   "codemirror_mode": {
    "name": "ipython",
    "version": 2
   },
   "file_extension": ".py",
   "mimetype": "text/x-python",
   "name": "python",
   "nbconvert_exporter": "python",
   "pygments_lexer": "ipython2",
   "version": "2.7.6"
  }
 },
 "nbformat": 4,
 "nbformat_minor": 5
}
